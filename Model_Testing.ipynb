{
 "cells": [
  {
   "cell_type": "code",
   "execution_count": 1,
   "id": "25db6e9d-0912-4295-8fc3-b30a05d29719",
   "metadata": {},
   "outputs": [
    {
     "name": "stderr",
     "output_type": "stream",
     "text": [
      "C:\\Users\\micha\\AppData\\Local\\Programs\\Python\\Python310\\lib\\site-packages\\tqdm\\auto.py:21: TqdmWarning: IProgress not found. Please update jupyter and ipywidgets. See https://ipywidgets.readthedocs.io/en/stable/user_install.html\n",
      "  from .autonotebook import tqdm as notebook_tqdm\n"
     ]
    }
   ],
   "source": [
    "from transformers import DistilBertForSequenceClassification, DistilBertTokenizer, pipeline"
   ]
  },
  {
   "cell_type": "code",
   "execution_count": 2,
   "id": "5f91c9e7-4544-49b1-a4a6-40fecb4ba670",
   "metadata": {},
   "outputs": [],
   "source": [
    "# Load the saved model and tokenizer\n",
    "model = DistilBertForSequenceClassification.from_pretrained(\"./db_model\")\n",
    "tokenizer = DistilBertTokenizer.from_pretrained(\"./db_model\")"
   ]
  },
  {
   "cell_type": "code",
   "execution_count": 3,
   "id": "a4391bd3-0a9d-4540-a4d8-8b2dd8ed73a6",
   "metadata": {},
   "outputs": [
    {
     "name": "stdout",
     "output_type": "stream",
     "text": [
      "Sentence: I absolutely love this product! It's amazing.\n",
      "Predicted Sentiment: LABEL_2 with score 1.00\n"
     ]
    }
   ],
   "source": [
    "# Create a pipeline\n",
    "sentiment_analyzer = pipeline(\"text-classification\", model=model, tokenizer=tokenizer)\n",
    "\n",
    "# Example sentence\n",
    "sentence = \"I absolutely love this product! It's amazing.\"\n",
    "\n",
    "# Perform sentiment analysis\n",
    "result = sentiment_analyzer(sentence)\n",
    "print(f\"Sentence: {sentence}\")\n",
    "print(f\"Predicted Sentiment: {result[0]['label']} with score {result[0]['score']:.2f}\")"
   ]
  },
  {
   "cell_type": "code",
   "execution_count": 60,
   "id": "c859e106-cf06-47f5-a8ab-1b98f9ba8b26",
   "metadata": {},
   "outputs": [
    {
     "name": "stdout",
     "output_type": "stream",
     "text": [
      "Sentence: These CFB fans have been outright dirtbags this year. The worst segment of the population\n",
      "Predicted Sentiment: Negative with confidence of 1.00\n",
      "Sentence: Of course my guy is the one who gets hurt. Just my luck.\n",
      "Predicted Sentiment: Negative with confidence of 0.98\n",
      "Sentence: Indiana not a top-5 team. They're gonna get rolled in their first playoff game. No Oregon, no PSU, and they got whupped by OSU. They're an illusion.\n",
      "Predicted Sentiment: Negative with confidence of 1.00\n"
     ]
    }
   ],
   "source": [
    "# Example sentences\n",
    "sentences = [\n",
    "    \"These CFB fans have been outright dirtbags this year. The worst segment of the population\",\n",
    "    \"Of course my guy is the one who gets hurt. Just my luck.\",\n",
    "    \"Indiana not a top-5 team. They're gonna get rolled in their first playoff game. No Oregon, no PSU, and they got whupped by OSU. They're an illusion.\"\n",
    "]\n",
    "\n",
    "# Perform sentiment analysis\n",
    "results = sentiment_analyzer(sentences)\n",
    "\n",
    "# Apply custom label mapping\n",
    "label_map = {\"LABEL_0\": \"Negative\", \"LABEL_1\": \"Neutral\", \"LABEL_2\": \"Positive\"}\n",
    "custom_results = [\n",
    "    {\"sentence\": sentence, \"sentiment\": label_map[result['label']], \"score\": result['score']}\n",
    "    for sentence, result in zip(sentences, results)\n",
    "]\n",
    "\n",
    "# Print results\n",
    "for res in custom_results:\n",
    "    print(f\"Sentence: {res['sentence']}\")\n",
    "    print(f\"Predicted Sentiment: {res['sentiment']} with confidence of {res['score']:.2f}\")"
   ]
  },
  {
   "cell_type": "code",
   "execution_count": null,
   "id": "c7c120d2-34e1-49d5-82b3-eb40febe2527",
   "metadata": {},
   "outputs": [],
   "source": []
  }
 ],
 "metadata": {
  "kernelspec": {
   "display_name": "Python 3 (ipykernel)",
   "language": "python",
   "name": "python3"
  },
  "language_info": {
   "codemirror_mode": {
    "name": "ipython",
    "version": 3
   },
   "file_extension": ".py",
   "mimetype": "text/x-python",
   "name": "python",
   "nbconvert_exporter": "python",
   "pygments_lexer": "ipython3",
   "version": "3.10.7"
  }
 },
 "nbformat": 4,
 "nbformat_minor": 5
}
