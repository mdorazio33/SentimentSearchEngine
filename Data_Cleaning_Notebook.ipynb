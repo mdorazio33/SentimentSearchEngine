{
 "cells": [
  {
   "cell_type": "code",
   "execution_count": 1,
   "id": "47855843",
   "metadata": {},
   "outputs": [],
   "source": [
    "import pandas as pd"
   ]
  },
  {
   "cell_type": "code",
   "execution_count": 2,
   "id": "29fee937",
   "metadata": {},
   "outputs": [
    {
     "data": {
      "text/html": [
       "<div>\n",
       "<style scoped>\n",
       "    .dataframe tbody tr th:only-of-type {\n",
       "        vertical-align: middle;\n",
       "    }\n",
       "\n",
       "    .dataframe tbody tr th {\n",
       "        vertical-align: top;\n",
       "    }\n",
       "\n",
       "    .dataframe thead th {\n",
       "        text-align: right;\n",
       "    }\n",
       "</style>\n",
       "<table border=\"1\" class=\"dataframe\">\n",
       "  <thead>\n",
       "    <tr style=\"text-align: right;\">\n",
       "      <th></th>\n",
       "      <th>Comment</th>\n",
       "      <th>Sentiment</th>\n",
       "    </tr>\n",
       "  </thead>\n",
       "  <tbody>\n",
       "    <tr>\n",
       "      <th>0</th>\n",
       "      <td>when modi promised a minimum government maximu...</td>\n",
       "      <td>-1.0</td>\n",
       "    </tr>\n",
       "    <tr>\n",
       "      <th>1</th>\n",
       "      <td>talk all the nonsense and continue all the dra...</td>\n",
       "      <td>0.0</td>\n",
       "    </tr>\n",
       "    <tr>\n",
       "      <th>2</th>\n",
       "      <td>what did just say vote for modi  welcome bjp t...</td>\n",
       "      <td>1.0</td>\n",
       "    </tr>\n",
       "    <tr>\n",
       "      <th>3</th>\n",
       "      <td>asking his supporters prefix chowkidar their n...</td>\n",
       "      <td>1.0</td>\n",
       "    </tr>\n",
       "    <tr>\n",
       "      <th>4</th>\n",
       "      <td>answer who among these the most powerful world...</td>\n",
       "      <td>1.0</td>\n",
       "    </tr>\n",
       "    <tr>\n",
       "      <th>...</th>\n",
       "      <td>...</td>\n",
       "      <td>...</td>\n",
       "    </tr>\n",
       "    <tr>\n",
       "      <th>269752</th>\n",
       "      <td>Planting the flag is the consequence of not be...</td>\n",
       "      <td>1.0</td>\n",
       "    </tr>\n",
       "    <tr>\n",
       "      <th>269753</th>\n",
       "      <td>ND has zero incentive to join a conference now...</td>\n",
       "      <td>1.0</td>\n",
       "    </tr>\n",
       "    <tr>\n",
       "      <th>269754</th>\n",
       "      <td>It's because they're spoiled fucking brats. Th...</td>\n",
       "      <td>1.0</td>\n",
       "    </tr>\n",
       "    <tr>\n",
       "      <th>269755</th>\n",
       "      <td>Defend your field, or face the consequences. A...</td>\n",
       "      <td>0.0</td>\n",
       "    </tr>\n",
       "    <tr>\n",
       "      <th>269756</th>\n",
       "      <td>No one in football would even attempt to do so...</td>\n",
       "      <td>-1.0</td>\n",
       "    </tr>\n",
       "  </tbody>\n",
       "</table>\n",
       "<p>269757 rows × 2 columns</p>\n",
       "</div>"
      ],
      "text/plain": [
       "                                                  Comment  Sentiment\n",
       "0       when modi promised a minimum government maximu...       -1.0\n",
       "1       talk all the nonsense and continue all the dra...        0.0\n",
       "2       what did just say vote for modi  welcome bjp t...        1.0\n",
       "3       asking his supporters prefix chowkidar their n...        1.0\n",
       "4       answer who among these the most powerful world...        1.0\n",
       "...                                                   ...        ...\n",
       "269752  Planting the flag is the consequence of not be...        1.0\n",
       "269753  ND has zero incentive to join a conference now...        1.0\n",
       "269754  It's because they're spoiled fucking brats. Th...        1.0\n",
       "269755  Defend your field, or face the consequences. A...        0.0\n",
       "269756  No one in football would even attempt to do so...       -1.0\n",
       "\n",
       "[269757 rows x 2 columns]"
      ]
     },
     "execution_count": 2,
     "metadata": {},
     "output_type": "execute_result"
    }
   ],
   "source": [
    "df = pd.read_csv(\"C:/Users/micha/Desktop/WebText/Final Project/data_for_training/sentiment_dataset.csv\")\n",
    "df"
   ]
  },
  {
   "cell_type": "code",
   "execution_count": 3,
   "id": "00dd09a7",
   "metadata": {},
   "outputs": [
    {
     "data": {
      "text/plain": [
       " 1.0    116114\n",
       " 0.0     90598\n",
       "-1.0     63038\n",
       "Name: Sentiment, dtype: int64"
      ]
     },
     "execution_count": 3,
     "metadata": {},
     "output_type": "execute_result"
    }
   ],
   "source": [
    "cat_counts = df['Sentiment'].value_counts()\n",
    "cat_counts"
   ]
  },
  {
   "cell_type": "code",
   "execution_count": 13,
   "id": "52b1868d",
   "metadata": {},
   "outputs": [
    {
     "data": {
      "text/html": [
       "<div>\n",
       "<style scoped>\n",
       "    .dataframe tbody tr th:only-of-type {\n",
       "        vertical-align: middle;\n",
       "    }\n",
       "\n",
       "    .dataframe tbody tr th {\n",
       "        vertical-align: top;\n",
       "    }\n",
       "\n",
       "    .dataframe thead th {\n",
       "        text-align: right;\n",
       "    }\n",
       "</style>\n",
       "<table border=\"1\" class=\"dataframe\">\n",
       "  <thead>\n",
       "    <tr style=\"text-align: right;\">\n",
       "      <th></th>\n",
       "      <th>Comment</th>\n",
       "      <th>Created_UTC</th>\n",
       "      <th>Comment_ID</th>\n",
       "      <th>Sentiment</th>\n",
       "    </tr>\n",
       "  </thead>\n",
       "  <tbody>\n",
       "    <tr>\n",
       "      <th>0</th>\n",
       "      <td>WHATS GOING ON WITH JAMARR CHASE!?</td>\n",
       "      <td>1733078066</td>\n",
       "      <td>lzwpffq</td>\n",
       "      <td>-1</td>\n",
       "    </tr>\n",
       "    <tr>\n",
       "      <th>1</th>\n",
       "      <td>waiting for the sweet release of death</td>\n",
       "      <td>1733078066</td>\n",
       "      <td>lzwpfby</td>\n",
       "      <td>-1</td>\n",
       "    </tr>\n",
       "    <tr>\n",
       "      <th>2</th>\n",
       "      <td>There’s holding on every play, I agree make it...</td>\n",
       "      <td>1733078065</td>\n",
       "      <td>lzwpfbs</td>\n",
       "      <td>1</td>\n",
       "    </tr>\n",
       "    <tr>\n",
       "      <th>3</th>\n",
       "      <td>texans are the worst good team in the nfl</td>\n",
       "      <td>1733078065</td>\n",
       "      <td>lzwpf9r</td>\n",
       "      <td>-1</td>\n",
       "    </tr>\n",
       "    <tr>\n",
       "      <th>4</th>\n",
       "      <td>Yeah it’s been fucking us all these last coupl...</td>\n",
       "      <td>1733078065</td>\n",
       "      <td>lzwpf7u</td>\n",
       "      <td>-1</td>\n",
       "    </tr>\n",
       "    <tr>\n",
       "      <th>...</th>\n",
       "      <td>...</td>\n",
       "      <td>...</td>\n",
       "      <td>...</td>\n",
       "      <td>...</td>\n",
       "    </tr>\n",
       "    <tr>\n",
       "      <th>4643</th>\n",
       "      <td>Planting the flag is the consequence of not be...</td>\n",
       "      <td>1733021408</td>\n",
       "      <td>lztbdi9</td>\n",
       "      <td>1</td>\n",
       "    </tr>\n",
       "    <tr>\n",
       "      <th>4644</th>\n",
       "      <td>ND has zero incentive to join a conference now...</td>\n",
       "      <td>1733021403</td>\n",
       "      <td>lztbd1u</td>\n",
       "      <td>1</td>\n",
       "    </tr>\n",
       "    <tr>\n",
       "      <th>4645</th>\n",
       "      <td>It's because they're spoiled fucking brats. Th...</td>\n",
       "      <td>1733021379</td>\n",
       "      <td>lztbasa</td>\n",
       "      <td>1</td>\n",
       "    </tr>\n",
       "    <tr>\n",
       "      <th>4646</th>\n",
       "      <td>Defend your field, or face the consequences. A...</td>\n",
       "      <td>1733021307</td>\n",
       "      <td>lztb47h</td>\n",
       "      <td>0</td>\n",
       "    </tr>\n",
       "    <tr>\n",
       "      <th>4647</th>\n",
       "      <td>No one in basketball would even attempt to do ...</td>\n",
       "      <td>1733021299</td>\n",
       "      <td>lztb3jp</td>\n",
       "      <td>-1</td>\n",
       "    </tr>\n",
       "  </tbody>\n",
       "</table>\n",
       "<p>4648 rows × 4 columns</p>\n",
       "</div>"
      ],
      "text/plain": [
       "                                                Comment  Created_UTC  \\\n",
       "0                    WHATS GOING ON WITH JAMARR CHASE!?   1733078066   \n",
       "1                waiting for the sweet release of death   1733078066   \n",
       "2     There’s holding on every play, I agree make it...   1733078065   \n",
       "3             texans are the worst good team in the nfl   1733078065   \n",
       "4     Yeah it’s been fucking us all these last coupl...   1733078065   \n",
       "...                                                 ...          ...   \n",
       "4643  Planting the flag is the consequence of not be...   1733021408   \n",
       "4644  ND has zero incentive to join a conference now...   1733021403   \n",
       "4645  It's because they're spoiled fucking brats. Th...   1733021379   \n",
       "4646  Defend your field, or face the consequences. A...   1733021307   \n",
       "4647  No one in basketball would even attempt to do ...   1733021299   \n",
       "\n",
       "     Comment_ID  Sentiment  \n",
       "0       lzwpffq         -1  \n",
       "1       lzwpfby         -1  \n",
       "2       lzwpfbs          1  \n",
       "3       lzwpf9r         -1  \n",
       "4       lzwpf7u         -1  \n",
       "...         ...        ...  \n",
       "4643    lztbdi9          1  \n",
       "4644    lztbd1u          1  \n",
       "4645    lztbasa          1  \n",
       "4646    lztb47h          0  \n",
       "4647    lztb3jp         -1  \n",
       "\n",
       "[4648 rows x 4 columns]"
      ]
     },
     "execution_count": 13,
     "metadata": {},
     "output_type": "execute_result"
    }
   ],
   "source": [
    "df['Sentiment'] = df['Sentiment'].replace({'positive': 1, 'neutral': 0, 'negative': -1})\n",
    "\n",
    "df"
   ]
  },
  {
   "cell_type": "code",
   "execution_count": 14,
   "id": "6545debb",
   "metadata": {},
   "outputs": [
    {
     "data": {
      "text/plain": [
       " 1    1869\n",
       " 0    1569\n",
       "-1    1210\n",
       "Name: Sentiment, dtype: int64"
      ]
     },
     "execution_count": 14,
     "metadata": {},
     "output_type": "execute_result"
    }
   ],
   "source": [
    "cat_counts = df['Sentiment'].value_counts()\n",
    "cat_counts"
   ]
  },
  {
   "cell_type": "code",
   "execution_count": 15,
   "id": "7b83910b",
   "metadata": {},
   "outputs": [
    {
     "data": {
      "text/plain": [
       " 1    1869\n",
       " 0    1569\n",
       "-1    1210\n",
       "Name: Sentiment, dtype: int64"
      ]
     },
     "execution_count": 15,
     "metadata": {},
     "output_type": "execute_result"
    }
   ],
   "source": [
    "df['Sentiment'] = pd.to_numeric(df['Sentiment'], errors='coerce')\n",
    "\n",
    "cat_counts = df['Sentiment'].value_counts()\n",
    "\n",
    "cat_counts"
   ]
  },
  {
   "cell_type": "code",
   "execution_count": 16,
   "id": "08b483b2",
   "metadata": {},
   "outputs": [],
   "source": [
    "df.to_csv('new_file.csv', index=False)"
   ]
  }
 ],
 "metadata": {
  "kernelspec": {
   "display_name": "Python 3 (ipykernel)",
   "language": "python",
   "name": "python3"
  },
  "language_info": {
   "codemirror_mode": {
    "name": "ipython",
    "version": 3
   },
   "file_extension": ".py",
   "mimetype": "text/x-python",
   "name": "python",
   "nbconvert_exporter": "python",
   "pygments_lexer": "ipython3",
   "version": "3.10.7"
  }
 },
 "nbformat": 4,
 "nbformat_minor": 5
}
