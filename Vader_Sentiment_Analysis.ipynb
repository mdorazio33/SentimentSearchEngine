{
 "cells": [
  {
   "cell_type": "code",
   "execution_count": 5,
   "id": "f3972b6d",
   "metadata": {},
   "outputs": [],
   "source": [
    "import pandas as pd\n",
    "from nltk.sentiment.vader import SentimentIntensityAnalyzer\n",
    "import nltk"
   ]
  },
  {
   "cell_type": "code",
   "execution_count": 6,
   "id": "a15a990e",
   "metadata": {},
   "outputs": [
    {
     "name": "stderr",
     "output_type": "stream",
     "text": [
      "[nltk_data] Downloading package vader_lexicon to\n",
      "[nltk_data]     C:\\Users\\micha\\AppData\\Roaming\\nltk_data...\n",
      "[nltk_data]   Package vader_lexicon is already up-to-date!\n"
     ]
    },
    {
     "data": {
      "text/plain": [
       "True"
      ]
     },
     "execution_count": 6,
     "metadata": {},
     "output_type": "execute_result"
    }
   ],
   "source": [
    "# Download the Vader lexicon if not already downloaded\n",
    "nltk.download('vader_lexicon')"
   ]
  },
  {
   "cell_type": "code",
   "execution_count": 7,
   "id": "954076fa",
   "metadata": {},
   "outputs": [
    {
     "name": "stdout",
     "output_type": "stream",
     "text": [
      "Sentiment analysis completed. Results saved to C:/Users/micha/Desktop/WebText/Final Project/scraped_data2/sentiment_analysis_results.csv\n"
     ]
    }
   ],
   "source": [
    "# Initialize Vader Sentiment Analyzer\n",
    "analyzer = SentimentIntensityAnalyzer()\n",
    "\n",
    "# Load the merged CSV file\n",
    "input_path = \"C:/Users/micha/Desktop/WebText/Final Project/scraped_data2/combined_data.csv\"\n",
    "df = pd.read_csv(input_path)\n",
    "\n",
    "# Perform sentiment analysis\n",
    "def analyze_sentiment(comment):\n",
    "    scores = analyzer.polarity_scores(comment)\n",
    "    compound = scores['compound']\n",
    "    if compound >= 0.05:\n",
    "        sentiment = \"positive\"\n",
    "    elif compound <= -0.05:\n",
    "        sentiment = \"negative\"\n",
    "    else:\n",
    "        sentiment = \"neutral\"\n",
    "    return pd.Series([compound, sentiment])\n",
    "\n",
    "# Apply analysis to each comment\n",
    "df[['Sentiment_Score', 'Sentiment']] = df['Comment'].apply(analyze_sentiment)\n",
    "\n",
    "# Save the results to a new CSV file\n",
    "output_path = \"C:/Users/micha/Desktop/WebText/Final Project/scraped_data2/sentiment_analysis_results.csv\"\n",
    "df.to_csv(output_path, index=False)\n",
    "\n",
    "print(f\"Sentiment analysis completed. Results saved to {output_path}\")"
   ]
  }
 ],
 "metadata": {
  "kernelspec": {
   "display_name": "Python 3 (ipykernel)",
   "language": "python",
   "name": "python3"
  },
  "language_info": {
   "codemirror_mode": {
    "name": "ipython",
    "version": 3
   },
   "file_extension": ".py",
   "mimetype": "text/x-python",
   "name": "python",
   "nbconvert_exporter": "python",
   "pygments_lexer": "ipython3",
   "version": "3.10.7"
  }
 },
 "nbformat": 4,
 "nbformat_minor": 5
}
