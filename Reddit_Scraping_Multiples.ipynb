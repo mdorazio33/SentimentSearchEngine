{
 "cells": [
  {
   "cell_type": "code",
   "execution_count": 1,
   "id": "79f758ed",
   "metadata": {},
   "outputs": [],
   "source": [
    "import praw\n",
    "import pandas as pd\n",
    "import time\n",
    "from datetime import datetime\n",
    "import os"
   ]
  },
  {
   "cell_type": "code",
   "execution_count": 2,
   "id": "dcf59438",
   "metadata": {},
   "outputs": [],
   "source": [
    "write_area = r'C:\\Users\\micha\\Desktop\\WebText\\Final Project\\scraped_data3'"
   ]
  },
  {
   "cell_type": "code",
   "execution_count": 3,
   "id": "79ddde3c",
   "metadata": {},
   "outputs": [],
   "source": [
    "subreddits = ['nfl',\n",
    "              'sports',\n",
    "              'fantasyfootball',\n",
    "             'sportsbetting',\n",
    "             'sportsbook']\n",
    "total_comments = 1000"
   ]
  },
  {
   "cell_type": "code",
   "execution_count": 4,
   "id": "ebbaec9c",
   "metadata": {},
   "outputs": [],
   "source": [
    "total_comments = 1000\n",
    "subreddit_name = 'nfl'"
   ]
  },
  {
   "cell_type": "code",
   "execution_count": 5,
   "id": "281aebb7",
   "metadata": {},
   "outputs": [],
   "source": [
    "import reddit_credentials as rc"
   ]
  },
  {
   "cell_type": "code",
   "execution_count": 6,
   "id": "c3a043ff",
   "metadata": {},
   "outputs": [
    {
     "name": "stderr",
     "output_type": "stream",
     "text": [
      "Version 7.7.1 of praw is outdated. Version 7.8.1 was released Friday October 25, 2024.\n"
     ]
    }
   ],
   "source": [
    "reddit = praw.Reddit(client_id=rc.client_id, \n",
    "                     client_secret=rc.client_secret, \n",
    "                     user_agent=rc.user_agent, \n",
    "                     username=rc.username, \n",
    "                     password=rc.password)"
   ]
  },
  {
   "cell_type": "code",
   "execution_count": 7,
   "id": "bbfb5b8f",
   "metadata": {},
   "outputs": [],
   "source": [
    "def scrape_comments(reddit, subreddit_name, total_comments, write_area):\n",
    "    start_time = time.time()\n",
    "    subreddit = reddit.subreddit(subreddit_name)\n",
    "    print(f\"Fetching comments from r/{subreddit_name}...\")\n",
    "\n",
    "    comments_data = []\n",
    "    count = 0\n",
    "\n",
    "    # Iterate over subreddit comments\n",
    "    for comment in subreddit.comments(limit=total_comments):\n",
    "        try:\n",
    "            comments_data.append({\n",
    "                'Comment': comment.body,\n",
    "                'Created_UTC': comment.created_utc,  # UNIX timestamp for comment creation\n",
    "                'Comment_ID': comment.id\n",
    "            })\n",
    "            count += 1\n",
    "\n",
    "            if count >= total_comments:\n",
    "                break\n",
    "        except Exception as e:\n",
    "            print(f\"Error processing comment in r/{subreddit_name}: {e}\")\n",
    "            continue\n",
    "\n",
    "    # Convert to DataFrame\n",
    "    comments_df = pd.DataFrame(comments_data)\n",
    "    \n",
    "    # Save to CSV\n",
    "    os.makedirs(write_area, exist_ok=True)\n",
    "    output_file = os.path.join(write_area, f\"{subreddit_name}_comments3.csv\")\n",
    "    comments_df.to_csv(output_file, index=False)\n",
    "    print(f\"Saved {len(comments_df)} comments to {output_file}\")\n",
    "    print(f\"Completed scraping r/{subreddit_name} in {(time.time() - start_time) / 60:.2f} minutes\")\n",
    "\n",
    "    return comments_df"
   ]
  },
  {
   "cell_type": "code",
   "execution_count": 8,
   "id": "89e9c94e",
   "metadata": {},
   "outputs": [
    {
     "name": "stdout",
     "output_type": "stream",
     "text": [
      "Fetching comments from r/nfl...\n",
      "Saved 960 comments to C:\\Users\\micha\\Desktop\\WebText\\Final Project\\scraped_data3\\nfl_comments3.csv\n",
      "Completed scraping r/nfl in 0.17 minutes\n",
      "Fetching comments from r/sports...\n",
      "Saved 813 comments to C:\\Users\\micha\\Desktop\\WebText\\Final Project\\scraped_data3\\sports_comments3.csv\n",
      "Completed scraping r/sports in 0.10 minutes\n",
      "Fetching comments from r/fantasyfootball...\n",
      "Saved 958 comments to C:\\Users\\micha\\Desktop\\WebText\\Final Project\\scraped_data3\\fantasyfootball_comments3.csv\n",
      "Completed scraping r/fantasyfootball in 0.12 minutes\n",
      "Fetching comments from r/sportsbetting...\n",
      "Saved 942 comments to C:\\Users\\micha\\Desktop\\WebText\\Final Project\\scraped_data3\\sportsbetting_comments3.csv\n",
      "Completed scraping r/sportsbetting in 0.13 minutes\n",
      "Fetching comments from r/sportsbook...\n",
      "Saved 970 comments to C:\\Users\\micha\\Desktop\\WebText\\Final Project\\scraped_data3\\sportsbook_comments3.csv\n",
      "Completed scraping r/sportsbook in 0.17 minutes\n"
     ]
    }
   ],
   "source": [
    "for subreddit_name in subreddits:\n",
    "    scrape_comments(reddit, subreddit_name, total_comments, write_area)"
   ]
  }
 ],
 "metadata": {
  "kernelspec": {
   "display_name": "Python 3 (ipykernel)",
   "language": "python",
   "name": "python3"
  },
  "language_info": {
   "codemirror_mode": {
    "name": "ipython",
    "version": 3
   },
   "file_extension": ".py",
   "mimetype": "text/x-python",
   "name": "python",
   "nbconvert_exporter": "python",
   "pygments_lexer": "ipython3",
   "version": "3.10.7"
  }
 },
 "nbformat": 4,
 "nbformat_minor": 5
}
