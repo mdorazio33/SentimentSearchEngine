{
 "cells": [
  {
   "cell_type": "code",
   "execution_count": 1,
   "id": "6af0a57c",
   "metadata": {},
   "outputs": [],
   "source": [
    "import praw\n",
    "import time\n",
    "import matplotlib.pyplot as plt\n",
    "from collections import Counter\n",
    "from datetime import datetime\n",
    "from transformers import DistilBertForSequenceClassification, DistilBertTokenizer, pipeline"
   ]
  },
  {
   "cell_type": "markdown",
   "id": "80ee6e37",
   "metadata": {},
   "source": [
    "## Step 1 - Load our trained model & tokenizer"
   ]
  },
  {
   "cell_type": "code",
   "execution_count": 2,
   "id": "45a33d95",
   "metadata": {},
   "outputs": [],
   "source": [
    "model = DistilBertForSequenceClassification.from_pretrained(\"./db_model\")\n",
    "tokenizer = DistilBertTokenizer.from_pretrained(\"./db_model\")"
   ]
  },
  {
   "cell_type": "markdown",
   "id": "daf95337",
   "metadata": {},
   "source": [
    "## Step 2 - Create a pipeline for sentiment analysis using our trained model & tokenizer"
   ]
  },
  {
   "cell_type": "code",
   "execution_count": 3,
   "id": "09e77cd8",
   "metadata": {},
   "outputs": [
    {
     "name": "stderr",
     "output_type": "stream",
     "text": [
      "Device set to use cpu\n"
     ]
    }
   ],
   "source": [
    "sentiment_analyzer = pipeline(\"text-classification\", model=model, tokenizer=tokenizer)"
   ]
  },
  {
   "cell_type": "markdown",
   "id": "897f66fe",
   "metadata": {},
   "source": [
    "I received this message because I chose to develop this script on my laptop rather than my PC which was used to train the model originally. As a result, it uses a CPU rather than a GPU."
   ]
  },
  {
   "cell_type": "markdown",
   "id": "60592cce",
   "metadata": {},
   "source": [
    "## Step 3 - Apply custom mapping to test on multiple sentences at once\n",
    "Just to test things out, I collected some relatively negative Reddit comments to evaluate the model. I did this to see how it performed on real-world language and to properly map out LABEL_0, 1, and 2 to Negative, Neutral, and Positive values to make them easily understood."
   ]
  },
  {
   "cell_type": "code",
   "execution_count": 4,
   "id": "c23fa9bc",
   "metadata": {
    "scrolled": true
   },
   "outputs": [
    {
     "name": "stdout",
     "output_type": "stream",
     "text": [
      "Sentence: These CFB fans have been outright dirtbags this year. The worst segment of the population\n",
      "Predicted Sentiment: Negative with confidence of 1.00\n",
      "Sentence: Of course my guy is the one who gets hurt. Just my luck.\n",
      "Predicted Sentiment: Negative with confidence of 0.98\n",
      "Sentence: Indiana not a top-5 team. They're gonna get rolled in their first playoff game. No Oregon, no PSU, and they got whupped by OSU. They're an illusion.\n",
      "Predicted Sentiment: Negative with confidence of 1.00\n"
     ]
    }
   ],
   "source": [
    "sentences = [\n",
    "    \"These CFB fans have been outright dirtbags this year. The worst segment of the population\",\n",
    "    \"Of course my guy is the one who gets hurt. Just my luck.\",\n",
    "    \"Indiana not a top-5 team. They're gonna get rolled in their first playoff game. No Oregon, no PSU, and they got whupped by OSU. They're an illusion.\"\n",
    "]\n",
    "\n",
    "results = sentiment_analyzer(sentences)\n",
    "\n",
    "# Mapping our labels\n",
    "label_map = {\"LABEL_0\": \"Negative\", \"LABEL_1\": \"Neutral\", \"LABEL_2\": \"Positive\"}\n",
    "custom_results = [\n",
    "    {\"sentence\": sentence, \"sentiment\": label_map[result['label']], \"score\": result['score']}\n",
    "    for sentence, result in zip(sentences, results)\n",
    "]\n",
    "\n",
    "# Printing the results\n",
    "for res in custom_results:\n",
    "    print(f\"Sentence: {res['sentence']}\")\n",
    "    print(f\"Predicted Sentiment: {res['sentiment']} with confidence of {res['score']:.2f}\")"
   ]
  },
  {
   "cell_type": "markdown",
   "id": "7f209f51",
   "metadata": {},
   "source": [
    "As we can see, our model predicts negative sentiment for these comments as we would expect, so it is performing well."
   ]
  },
  {
   "cell_type": "markdown",
   "id": "d58e8c11",
   "metadata": {},
   "source": [
    "## Step 4 - Import Reddit Credentials"
   ]
  },
  {
   "cell_type": "code",
   "execution_count": 5,
   "id": "b132c97a",
   "metadata": {},
   "outputs": [
    {
     "name": "stderr",
     "output_type": "stream",
     "text": [
      "Version 7.7.1 of praw is outdated. Version 7.8.1 was released Friday October 25, 2024.\n"
     ]
    }
   ],
   "source": [
    "import reddit_credentials as rc\n",
    "\n",
    "reddit = praw.Reddit(client_id=rc.client_id, \n",
    "                     client_secret=rc.client_secret, \n",
    "                     user_agent=rc.user_agent, \n",
    "                     username=rc.username, \n",
    "                     password=rc.password)"
   ]
  },
  {
   "cell_type": "markdown",
   "id": "4b8b0e56",
   "metadata": {},
   "source": [
    "## Step 5 - Implement a Keyword Search"
   ]
  },
  {
   "cell_type": "code",
   "execution_count": 6,
   "id": "4740b5b0",
   "metadata": {},
   "outputs": [],
   "source": [
    "def generate_keywords(player_name):\n",
    "    \"\"\"\n",
    "    Dynamically generate keywords for searching Reddit comments based on player name.\n",
    "    \"\"\"\n",
    "    name_parts = player_name.split()  # Split into parts (e.g., \"Jalen Hurts\" -> [\"Jalen\", \"Hurts\"])\n",
    "    keywords = [player_name]  # Include full name\n",
    "    keywords.extend(name_parts)  # Add individual parts (e.g., \"Jalen\" and \"Hurts\")\n",
    "    return keywords\n",
    "\n",
    "def get_comments_with_keywords(reddit, subreddit_name, keywords, total_comments=1000):\n",
    "    \"\"\"\n",
    "    Fetch comments from a subreddit that specifically mention the given keywords.\n",
    "    \"\"\"\n",
    "    subreddit = reddit.subreddit(subreddit_name)\n",
    "    \n",
    "    filtered_comments = []\n",
    "    count = 0\n",
    "\n",
    "    for comment in subreddit.comments(limit=total_comments):\n",
    "        try:\n",
    "            # Check if the comment contains any of the keywords (case-insensitive)\n",
    "            if any(keyword.lower() in comment.body.lower() for keyword in keywords):\n",
    "                filtered_comments.append({\n",
    "                    'Comment': comment.body,\n",
    "                    'Created_UTC': comment.created_utc,  # Unix timestamp\n",
    "                    'Comment_ID': comment.id\n",
    "                })\n",
    "                count += 1\n",
    "\n",
    "                # Stop fetching if we've reached the desired number of filtered comments\n",
    "                if count >= total_comments:\n",
    "                    break\n",
    "        except Exception as e:\n",
    "            print(f\"Error processing comment: {e}\")\n",
    "            continue\n",
    "\n",
    "    return filtered_comments"
   ]
  },
  {
   "cell_type": "markdown",
   "id": "70f846b6",
   "metadata": {},
   "source": [
    "## Step 6 - Function to get comments with keyword search from multiple subreddits at once"
   ]
  },
  {
   "cell_type": "code",
   "execution_count": 7,
   "id": "153a216a",
   "metadata": {},
   "outputs": [],
   "source": [
    "def get_comments_from_subreddits(reddit, subreddits, keywords, total_comments_per_subreddit=1000, verbose=False):\n",
    "    \"\"\"\n",
    "    Fetch comments from multiple subreddits containing specific keywords.\n",
    "    \"\"\"\n",
    "    all_comments = []\n",
    "    total_found = 0\n",
    "\n",
    "    for subreddit_name in subreddits:\n",
    "        if verbose:\n",
    "            print(f\"Processing subreddit: r/{subreddit_name}\")\n",
    "        subreddit_comments = get_comments_with_keywords(reddit, subreddit_name, keywords, total_comments_per_subreddit)\n",
    "        total_found += len(subreddit_comments)\n",
    "        all_comments.extend(subreddit_comments)\n",
    "\n",
    "    print(f\"Total comments about this player: {total_found}\")\n",
    "    return all_comments"
   ]
  },
  {
   "cell_type": "markdown",
   "id": "2364facb",
   "metadata": {},
   "source": [
    "## Step 7 - Define a Sentiment Analysis Function"
   ]
  },
  {
   "cell_type": "code",
   "execution_count": 8,
   "id": "6793cce0",
   "metadata": {},
   "outputs": [],
   "source": [
    "def analyze_sentiment(comments, keywords):\n",
    "    \"\"\"\n",
    "    Analyze sentiment for a list of comments, calculate counts for each sentiment,\n",
    "    and calculate the average timestamp.\n",
    "    \"\"\"\n",
    "    # Get sentiment predictions\n",
    "    sentiment_results = sentiment_analyzer([comment['Comment'] for comment in comments])\n",
    "    \n",
    "    # Map labels to human-readable categories\n",
    "    label_map = {\"LABEL_0\": \"Negative\", \"LABEL_1\": \"Neutral\", \"LABEL_2\": \"Positive\"}\n",
    "    \n",
    "    # Prepare sentiment analysis results\n",
    "    results = []\n",
    "    timestamps = []\n",
    "    for comment, result in zip(comments, sentiment_results):\n",
    "        sentiment = label_map[result['label']]\n",
    "        results.append({\n",
    "            'Comment': comment['Comment'],\n",
    "            'Sentiment': sentiment,\n",
    "            'Score': result['score']\n",
    "        })\n",
    "        timestamps.append(comment['Created_UTC'])  # Collect timestamps\n",
    "    \n",
    "    # Count each sentiment\n",
    "    sentiment_counts = Counter([res['Sentiment'] for res in results])\n",
    "    most_common_sentiment = sentiment_counts.most_common(1)[0]  # Get the most frequent sentiment\n",
    "\n",
    "    # Calculate the average timestamp\n",
    "    avg_timestamp = sum(timestamps) / len(timestamps) if timestamps else 0\n",
    "    avg_datetime = datetime.utcfromtimestamp(avg_timestamp).strftime('%Y-%m-%d %H:%M:%S') if avg_timestamp else \"N/A\"\n",
    "    \n",
    "    # Display results\n",
    "    print(\"\\nSentiment Counts:\")\n",
    "    for sentiment, count in sentiment_counts.items():\n",
    "        print(f\"{sentiment}: {count}\")\n",
    "    print(f\"\\nMost Common Sentiment: {most_common_sentiment[0]} ({most_common_sentiment[1]} comments)\")\n",
    "    print(f\"Average Timestamp: {avg_datetime}\")\n",
    "    \n",
    "    # Return both sentiment counts and analysis results\n",
    "    return sentiment_counts, results"
   ]
  },
  {
   "cell_type": "code",
   "execution_count": 9,
   "id": "0e5a48ec",
   "metadata": {},
   "outputs": [],
   "source": [
    "def plot_sentiment_counts(sentiment_counts, player_name):\n",
    "    \"\"\"\n",
    "    Plot a bar chart for sentiment counts.\n",
    "    \"\"\"\n",
    "    # Data for the chart\n",
    "    sentiment_labels = list(sentiment_counts.keys())\n",
    "    sentiment_values = list(sentiment_counts.values())\n",
    "\n",
    "    # Create the bar chart\n",
    "    plt.figure(figsize=(8, 6))\n",
    "    plt.bar(sentiment_labels, sentiment_values, color=['blue', 'green', 'red'])\n",
    "    plt.xlabel('Sentiment')\n",
    "    plt.ylabel('Number of Comments')\n",
    "    plt.title(f'Sentiment Analysis for {player_name}')\n",
    "    plt.show()"
   ]
  },
  {
   "cell_type": "markdown",
   "id": "1716ba10",
   "metadata": {},
   "source": [
    "## Step 8 - Perform a Sentiment Search\n",
    "As an example, I performed a sentiment search on Caleb Williams, who recorded around his average of 17 fantasy points on Sunday's game."
   ]
  },
  {
   "cell_type": "code",
   "execution_count": 10,
   "id": "5790ff70",
   "metadata": {},
   "outputs": [
    {
     "name": "stdout",
     "output_type": "stream",
     "text": [
      "Total comments about this player: 108\n",
      "\n",
      "Sentiment Counts:\n",
      "Positive: 50\n",
      "Neutral: 18\n",
      "Negative: 40\n",
      "\n",
      "Most Common Sentiment: Positive (50 comments)\n",
      "Average Timestamp: 2024-12-08 20:54:08\n"
     ]
    },
    {
     "data": {
      "image/png": "[encoded data removed]",
      "text/plain": [
       "<Figure size 800x600 with 1 Axes>"
      ]
     },
     "metadata": {},
     "output_type": "display_data"
    }
   ],
   "source": [
    "player_name = \"Caleb Williams\"\n",
    "keywords = generate_keywords(player_name)\n",
    "\n",
    "subreddits = [\"nfl\", \"fantasyfootball\", \"nflmemes\", \"espn\", \"CHIBears\"]  # List of subreddits to search\n",
    "total_comments_per_subreddit = 1000\n",
    "\n",
    "# Fetch comments across multiple subreddits\n",
    "comments = get_comments_from_subreddits(reddit, subreddits, keywords, total_comments_per_subreddit, verbose=False)\n",
    "\n",
    "# Analyze sentiment for found comments\n",
    "if comments:\n",
    "    sentiment_counts, analysis = analyze_sentiment(comments, keywords)  # Apply our model\n",
    "    plot_sentiment_counts(sentiment_counts, player_name)  # Plot the sentiment counts\n",
    "else:\n",
    "    # Default to a Neutral sentiment if no comments are found\n",
    "    print(f\"No comments mentioning {keywords} found in the given subreddits.\")\n",
    "    print(\"Sentiment: Neutral\")"
   ]
  },
  {
   "cell_type": "markdown",
   "id": "a1e0bf4e",
   "metadata": {},
   "source": [
    "The result was a majority positive sentiment from Reddit users, albeit not by a huge margin. This may be likely due to the Bears losing that game in particular, despite Williams' performance, as fans likely used his name in conjunction with complaints almost as much as praises."
   ]
  },
  {
   "cell_type": "markdown",
   "id": "0e0d33aa",
   "metadata": {},
   "source": [
    "## Search #2 - Justin Jefferson\n",
    "For our second search, I decided to look at Reddit's opinion on Justin Jefferson, who performed well above his average by recording 25 points on Sunday's game that the Vikings won, which was far above his average of 11.7.\n",
    "\n",
    "To make this analysis more effective, I also replaced the Bears subreddit with the Vikings' one to see if it more comments from fans who may be talking about this player in particular."
   ]
  },
  {
   "cell_type": "code",
   "execution_count": 11,
   "id": "7936bba0",
   "metadata": {},
   "outputs": [
    {
     "name": "stdout",
     "output_type": "stream",
     "text": [
      "Total comments about this player: 22\n",
      "\n",
      "Sentiment Counts:\n",
      "Positive: 14\n",
      "Negative: 6\n",
      "Neutral: 2\n",
      "\n",
      "Most Common Sentiment: Positive (14 comments)\n",
      "Average Timestamp: 2024-12-08 21:41:01\n"
     ]
    },
    {
     "data": {
      "image/png": "[encoded data removed]",
      "text/plain": [
       "<Figure size 800x600 with 1 Axes>"
      ]
     },
     "metadata": {},
     "output_type": "display_data"
    }
   ],
   "source": [
    "player_name = \"Justin Jefferson\"\n",
    "keywords = generate_keywords(player_name)\n",
    "\n",
    "subreddits = [\"nfl\", \"fantasyfootball\", \"nflmemes\", \"espn\", \"minnesotavikings\"]  # List of subreddits to search\n",
    "total_comments_per_subreddit = 1000\n",
    "\n",
    "# Fetch comments across multiple subreddits\n",
    "comments = get_comments_from_subreddits(reddit, subreddits, keywords, total_comments_per_subreddit, verbose=False)\n",
    "\n",
    "# Analyze sentiment for found comments\n",
    "if comments:\n",
    "    sentiment_counts, analysis = analyze_sentiment(comments, keywords)  # Apply our model\n",
    "    plot_sentiment_counts(sentiment_counts, player_name)  # Plot the sentiment counts\n",
    "else:\n",
    "    # Default to a Neutral sentiment if no comments are found\n",
    "    print(f\"No comments mentioning {keywords} found in the given subreddits.\")\n",
    "    print(\"Sentiment: Neutral\")"
   ]
  },
  {
   "cell_type": "markdown",
   "id": "475a216d",
   "metadata": {},
   "source": [
    "As one would expect, Justin Jefferson obtained an overwhelmingly positive score as this was his best performing game of the season so far."
   ]
  },
  {
   "cell_type": "markdown",
   "id": "0f93036c",
   "metadata": {},
   "source": [
    "## Search #3 - Dustin Hopkins\n",
    "Lastly, I wanted to look at some results for a player whose team lost and they individually underperformed in order to see if there was any dramatic backlash. Dustin Hopkins is a kicker for the Cleveland Browns who averages 5.2 fantasy points per week, but only recorded 2 points in this Sunday's loss. Additionally, both throughout and after the game, there was great backlash regarding the Browns' kicking performance, so I wanted to see if Redditors covered this."
   ]
  },
  {
   "cell_type": "markdown",
   "id": "fbc9a6e9",
   "metadata": {},
   "source": [
    "Once again, I swapped out the team specific subreddit for the Browns' subreddit, r/Browns"
   ]
  },
  {
   "cell_type": "code",
   "execution_count": 14,
   "id": "6998cb11",
   "metadata": {},
   "outputs": [
    {
     "name": "stdout",
     "output_type": "stream",
     "text": [
      "Total comments about this player: 42\n",
      "\n",
      "Sentiment Counts:\n",
      "Positive: 11\n",
      "Negative: 16\n",
      "Neutral: 15\n",
      "\n",
      "Most Common Sentiment: Negative (16 comments)\n",
      "Average Timestamp: 2024-12-08 22:11:07\n"
     ]
    },
    {
     "data": {
      "image/png": "[encoded data removed]",
      "text/plain": [
       "<Figure size 800x600 with 1 Axes>"
      ]
     },
     "metadata": {},
     "output_type": "display_data"
    }
   ],
   "source": [
    "player_name = \"Dustin Hopkins\"\n",
    "keywords = generate_keywords(player_name)\n",
    "\n",
    "subreddits = [\"nfl\", \"fantasyfootball\", \"nflmemes\", \"espn\", \"Browns\"]  # List of subreddits to search\n",
    "total_comments_per_subreddit = 1000\n",
    "\n",
    "# Fetch comments across multiple subreddits\n",
    "comments = get_comments_from_subreddits(reddit, subreddits, keywords, total_comments_per_subreddit, verbose=False)\n",
    "\n",
    "# Analyze sentiment for found comments\n",
    "if comments:\n",
    "    sentiment_counts, analysis = analyze_sentiment(comments, keywords)  # Apply our model\n",
    "    plot_sentiment_counts(sentiment_counts, player_name)  # Plot the sentiment counts\n",
    "else:\n",
    "    # Default to a Neutral sentiment if no comments are found\n",
    "    print(f\"No comments mentioning {keywords} found in the given subreddits.\")\n",
    "    print(\"Sentiment: Neutral\")"
   ]
  },
  {
   "cell_type": "markdown",
   "id": "566eda17",
   "metadata": {},
   "source": [
    "As we can see, most comments towards Hopkins on Sunday were negative, but luckily there were a high amount of neutral comments towards him and a few positive as well.\n",
    "\n",
    "This is encouraging, as while he had a bad performance in missing two field goals, it is encouraging to see that some fans still show strong Postive and even Neutral support."
   ]
  }
 ],
 "metadata": {
  "kernelspec": {
   "display_name": "Python 3 (ipykernel)",
   "language": "python",
   "name": "python3"
  },
  "language_info": {
   "codemirror_mode": {
    "name": "ipython",
    "version": 3
   },
   "file_extension": ".py",
   "mimetype": "text/x-python",
   "name": "python",
   "nbconvert_exporter": "python",
   "pygments_lexer": "ipython3",
   "version": "3.10.7"
  }
 },
 "nbformat": 4,
 "nbformat_minor": 5
}
