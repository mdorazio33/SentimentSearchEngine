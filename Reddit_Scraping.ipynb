{
 "cells": [
  {
   "cell_type": "code",
   "execution_count": 1,
   "id": "79f758ed",
   "metadata": {},
   "outputs": [],
   "source": [
    "import praw\n",
    "import pandas as pd\n",
    "import time\n",
    "from datetime import datetime"
   ]
  },
  {
   "cell_type": "code",
   "execution_count": 2,
   "id": "dcf59438",
   "metadata": {},
   "outputs": [],
   "source": [
    "write_area = r'C:\\Users\\micha\\Desktop\\WebText\\Final Project'\n",
    "total_comments = 1000\n",
    "subreddit_name = 'nfl'"
   ]
  },
  {
   "cell_type": "code",
   "execution_count": 3,
   "id": "281aebb7",
   "metadata": {},
   "outputs": [],
   "source": [
    "import reddit_credentials as rc"
   ]
  },
  {
   "cell_type": "code",
   "execution_count": 4,
   "id": "c3a043ff",
   "metadata": {},
   "outputs": [
    {
     "name": "stderr",
     "output_type": "stream",
     "text": [
      "Version 7.7.1 of praw is outdated. Version 7.8.1 was released Friday October 25, 2024.\n"
     ]
    }
   ],
   "source": [
    "reddit = praw.Reddit(client_id=rc.client_id, \n",
    "                     client_secret=rc.client_secret, \n",
    "                     user_agent=rc.user_agent, \n",
    "                     username=rc.username, \n",
    "                     password=rc.password)"
   ]
  },
  {
   "cell_type": "code",
   "execution_count": 5,
   "id": "bbfb5b8f",
   "metadata": {},
   "outputs": [],
   "source": [
    "def scrape_comments(reddit, subreddit_name, total_comments):\n",
    "    start_time = time.time()\n",
    "    subreddit = reddit.subreddit(subreddit_name)\n",
    "    print(f\"Fetching comments from r/{subreddit_name}...\")\n",
    "\n",
    "    comments_data = []\n",
    "    count = 0\n",
    "\n",
    "    # Iterate over subreddit comments\n",
    "    for comment in subreddit.comments(limit=total_comments):\n",
    "        try:\n",
    "            comments_data.append({\n",
    "                'Comment': comment.body,\n",
    "                'Created_UTC': comment.created_utc,  # UNIX timestamp for comment creation\n",
    "                'Comment_ID': comment.id\n",
    "            })\n",
    "            count += 1\n",
    "            if count % 1000 == 0:  # Log progress every 1,000 comments\n",
    "                print(f\"Collected {count} comments so far...\")\n",
    "\n",
    "            if count >= total_comments:\n",
    "                break\n",
    "        except Exception as e:\n",
    "            print(f\"Error processing comment: {e}\")\n",
    "            continue\n",
    "\n",
    "    # Convert to DataFrame\n",
    "    comments_df = pd.DataFrame(comments_data)\n",
    "    \n",
    "    # Save to CSV\n",
    "    output_file = f\"{write_area}/{subreddit_name}_comments.csv\"\n",
    "    comments_df.to_csv(output_file, index=False)\n",
    "    print(f\"Saved {len(comments_df)} comments to {output_file}\")\n",
    "    print(f\"Completed in {(time.time() - start_time) / 60:.2f} minutes\")\n",
    "\n",
    "    return comments_df"
   ]
  },
  {
   "cell_type": "code",
   "execution_count": 6,
   "id": "89e9c94e",
   "metadata": {},
   "outputs": [
    {
     "name": "stdout",
     "output_type": "stream",
     "text": [
      "Fetching comments from r/nfl...\n",
      "Saved 963 comments to C:\\Users\\micha\\Desktop\\WebText\\Final Project/nfl_comments.csv\n",
      "Completed in 0.15 minutes\n"
     ]
    }
   ],
   "source": [
    "commcomments_df = scrape_comments(reddit, subreddit_name, total_comments)"
   ]
  }
 ],
 "metadata": {
  "kernelspec": {
   "display_name": "Python 3 (ipykernel)",
   "language": "python",
   "name": "python3"
  },
  "language_info": {
   "codemirror_mode": {
    "name": "ipython",
    "version": 3
   },
   "file_extension": ".py",
   "mimetype": "text/x-python",
   "name": "python",
   "nbconvert_exporter": "python",
   "pygments_lexer": "ipython3",
   "version": "3.10.7"
  }
 },
 "nbformat": 4,
 "nbformat_minor": 5
}
